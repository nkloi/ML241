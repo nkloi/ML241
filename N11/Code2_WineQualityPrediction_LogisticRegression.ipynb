{
  "nbformat": 4,
  "nbformat_minor": 0,
  "metadata": {
    "colab": {
      "provenance": []
    },
    "kernelspec": {
      "name": "python3",
      "display_name": "Python 3"
    },
    "language_info": {
      "name": "python"
    }
  },
  "cells": [
    {
      "cell_type": "code",
      "execution_count": null,
      "metadata": {
        "id": "1_R6hdDV5HfP"
      },
      "outputs": [],
      "source": [
        "import numpy as np\n",
        "import pandas as pd\n",
        "import matplotlib.pyplot as plt\n",
        "import seaborn as sns"
      ]
    },
    {
      "cell_type": "markdown",
      "source": [
        "Preprocessing the input data"
      ],
      "metadata": {
        "id": "N0JkBLPI5fNB"
      }
    },
    {
      "cell_type": "code",
      "source": [
        "# loading the dataset to a Pandas DataFrame\n",
        "\n",
        "wine_dataset = pd.read_csv('/content/winequality-red.csv')"
      ],
      "metadata": {
        "id": "smq_aEVf-iLs"
      },
      "execution_count": null,
      "outputs": []
    },
    {
      "cell_type": "code",
      "source": [
        "# Create binary classification: good (1) vs. bad (0)\n",
        "wine_dataset['quality'] = wine_dataset['quality'].apply(lambda x: 1 if x >= 5 else 0)\n",
        "\n",
        "# Split the dataset into features (X) and target (y)\n",
        "X = wine_dataset.drop('quality', axis=1).values\n",
        "y = wine_dataset['quality'].values\n",
        "\n",
        "# Feature scaling: Normalize the features (z-score standardization)\n",
        "from sklearn.preprocessing import StandardScaler\n",
        "scaler = StandardScaler()\n",
        "X_scaled = scaler.fit_transform(X)\n",
        "\n",
        "# Split the data into training and testing sets (80% training, 20% testing)\n",
        "from sklearn.model_selection import train_test_split\n",
        "X_train, X_test, y_train, y_test = train_test_split(X_scaled, y, test_size=0.2, random_state=42)\n"
      ],
      "metadata": {
        "id": "9uTjzkxx5eGf"
      },
      "execution_count": null,
      "outputs": []
    },
    {
      "cell_type": "markdown",
      "source": [
        "Logistic Regression, cost function and ...\n",
        "\n",
        "Gradient descent: minimize the cost function and update the weights & bias."
      ],
      "metadata": {
        "id": "yQXjIsJu54gK"
      }
    },
    {
      "cell_type": "code",
      "source": [
        "def sigmoid(z):\n",
        "    return 1 / (1 + np.exp(-z))\n",
        "\n",
        "def cost_function(X, y, weights, bias):\n",
        "    m = len(X)  # number of training examples\n",
        "    # Predictions using the sigmoid function\n",
        "    predictions = sigmoid(np.dot(X, weights) + bias)\n",
        "    # Cost function: Binary Cross-Entropy / Log-Loss\n",
        "    cost = (-1/m) * np.sum(y * np.log(predictions) + (1 - y) * np.log(1 - predictions))\n",
        "    return cost\n",
        "\n",
        "def gradient_descent(X, y, weights, bias, learning_rate, num_iterations):\n",
        "    m = len(X) # function m = X.shape[0] is more recommended/universal than len(X)\n",
        "    costs = []\n",
        "\n",
        "    for i in range(num_iterations):\n",
        "        # Forward pass (compute predictions)\n",
        "        predictions = sigmoid(np.dot(X, weights) + bias)\n",
        "\n",
        "        # Compute the gradients (partial derivatives)\n",
        "        dw = (1/m) * np.dot(X.T, (predictions - y))\n",
        "        db = (1/m) * np.sum(predictions - y)\n",
        "\n",
        "        # Update the parameters (weights and bias)\n",
        "        weights -= learning_rate * dw\n",
        "        bias -= learning_rate * db\n",
        "\n",
        "        # Compute the cost and save it for plotting\n",
        "        cost = cost_function(X, y, weights, bias)\n",
        "        costs.append(cost)\n",
        "\n",
        "        # Print the cost every 100 iterations to track progress\n",
        "        if i % 100 == 0:\n",
        "            print(f\"Iteration {i}, Cost: {cost:.4f}\")\n",
        "\n",
        "    return weights, bias, costs\n"
      ],
      "metadata": {
        "id": "AUksobDH54uc"
      },
      "execution_count": null,
      "outputs": []
    },
    {
      "cell_type": "markdown",
      "source": [
        "Train the Logistic regression model\n",
        "\n",
        "\n"
      ],
      "metadata": {
        "id": "QT9RhKQX7dVD"
      }
    },
    {
      "cell_type": "code",
      "source": [
        "# Initialize weights and bias\n",
        "weights = np.zeros(X_train.shape[1])  # Number of features in X_train\n",
        "bias = 0\n",
        "\n",
        "# Set hyperparameters\n",
        "learning_rate = 0.01\n",
        "num_iterations = 1000\n",
        "\n",
        "# Train the model using gradient descent\n",
        "weights, bias, costs = gradient_descent(X_train, y_train, weights, bias, learning_rate, num_iterations)\n"
      ],
      "metadata": {
        "colab": {
          "base_uri": "https://localhost:8080/"
        },
        "id": "9R-DVLkL7dk-",
        "outputId": "ad28e175-093a-45d5-aa29-36fe9a1dc92c"
      },
      "execution_count": null,
      "outputs": [
        {
          "output_type": "stream",
          "name": "stdout",
          "text": [
            "Iteration 0, Cost: 0.6910\n",
            "Iteration 100, Cost: 0.5237\n",
            "Iteration 200, Cost: 0.4203\n",
            "Iteration 300, Cost: 0.3536\n",
            "Iteration 400, Cost: 0.3085\n",
            "Iteration 500, Cost: 0.2768\n",
            "Iteration 600, Cost: 0.2538\n",
            "Iteration 700, Cost: 0.2364\n",
            "Iteration 800, Cost: 0.2231\n",
            "Iteration 900, Cost: 0.2126\n"
          ]
        }
      ]
    },
    {
      "cell_type": "markdown",
      "source": [
        "Evaluate the Wine model\n",
        "+ Precision: Of all the wines predicted as \"good\", how many were actually good.\n",
        "+ Recall: Of all the wines that were actually good, how many were predicted correctly.\n",
        "+ F1-Score: The harmonic mean of precision and recall, giving a single metric that balances the two."
      ],
      "metadata": {
        "id": "W4UNz8R08nhU"
      }
    },
    {
      "cell_type": "code",
      "source": [
        "def predict(X, weights, bias):\n",
        "    # Compute the model's predictions (probabilities)\n",
        "    predictions = sigmoid(np.dot(X, weights) + bias)\n",
        "    # Convert probabilities to binary predictions (0 or 1)\n",
        "    return (predictions >= 0.5).astype(int)\n",
        "\n",
        "# Predict on the test data\n",
        "y_pred = predict(X_test, weights, bias)\n",
        "\n",
        "from sklearn.metrics import confusion_matrix, accuracy_score, classification_report\n",
        "\n",
        "  # Evaluate the model\n",
        "accuracy = accuracy_score(y_test, y_pred)\n",
        "print(f\"Accuracy: {accuracy:.4f}\")\n",
        "\n",
        "  # Confusion Matrix\n",
        "cm = confusion_matrix(y_test, y_pred)\n",
        "print(\"Confusion Matrix:\")\n",
        "print(cm)\n",
        "\n",
        "  # Classification Report\n",
        "report = classification_report(y_test, y_pred)\n",
        "print(\"Classification Report:\")\n",
        "print(report)\n",
        "\n",
        "\n"
      ],
      "metadata": {
        "colab": {
          "base_uri": "https://localhost:8080/"
        },
        "id": "jkSnnziw8nsz",
        "outputId": "0b8a2937-aa77-4654-8491-26ac6551c697"
      },
      "execution_count": null,
      "outputs": [
        {
          "output_type": "stream",
          "name": "stdout",
          "text": [
            "Accuracy: 0.9656\n",
            "Confusion Matrix:\n",
            "[[  0  11]\n",
            " [  0 309]]\n",
            "Classification Report:\n",
            "              precision    recall  f1-score   support\n",
            "\n",
            "           0       0.00      0.00      0.00        11\n",
            "           1       0.97      1.00      0.98       309\n",
            "\n",
            "    accuracy                           0.97       320\n",
            "   macro avg       0.48      0.50      0.49       320\n",
            "weighted avg       0.93      0.97      0.95       320\n",
            "\n"
          ]
        },
        {
          "output_type": "stream",
          "name": "stderr",
          "text": [
            "/usr/local/lib/python3.10/dist-packages/sklearn/metrics/_classification.py:1531: UndefinedMetricWarning: Precision is ill-defined and being set to 0.0 in labels with no predicted samples. Use `zero_division` parameter to control this behavior.\n",
            "  _warn_prf(average, modifier, f\"{metric.capitalize()} is\", len(result))\n",
            "/usr/local/lib/python3.10/dist-packages/sklearn/metrics/_classification.py:1531: UndefinedMetricWarning: Precision is ill-defined and being set to 0.0 in labels with no predicted samples. Use `zero_division` parameter to control this behavior.\n",
            "  _warn_prf(average, modifier, f\"{metric.capitalize()} is\", len(result))\n",
            "/usr/local/lib/python3.10/dist-packages/sklearn/metrics/_classification.py:1531: UndefinedMetricWarning: Precision is ill-defined and being set to 0.0 in labels with no predicted samples. Use `zero_division` parameter to control this behavior.\n",
            "  _warn_prf(average, modifier, f\"{metric.capitalize()} is\", len(result))\n"
          ]
        }
      ]
    },
    {
      "cell_type": "markdown",
      "source": [
        "Visualize how the cost function decreases over iterations during training"
      ],
      "metadata": {
        "id": "zg1fqysh854F"
      }
    },
    {
      "cell_type": "code",
      "source": [
        "# Plot the cost function over iterations\n",
        "plt.plot(range(num_iterations), costs)\n",
        "plt.xlabel('Iterations')\n",
        "plt.ylabel('Cost')\n",
        "plt.title('Cost Function over Iterations')\n",
        "plt.show()\n"
      ],
      "metadata": {
        "colab": {
          "base_uri": "https://localhost:8080/",
          "height": 472
        },
        "id": "0n1jQl6S85Mp",
        "outputId": "e9ee0613-967a-4737-a247-1654fd4d5e73"
      },
      "execution_count": null,
      "outputs": [
        {
          "output_type": "display_data",
          "data": {
            "text/plain": [
              "<Figure size 640x480 with 1 Axes>"
            ],
            "image/png": "[encoded data removed]"
          },
          "metadata": {}
        }
      ]
    },
    {
      "cell_type": "markdown",
      "source": [
        "# A. Build a Predictive model (single manual input)"
      ],
      "metadata": {
        "id": "rYeNKLQ_G5fZ"
      }
    },
    {
      "cell_type": "code",
      "source": [
        "new_input = np.array([11.0,0.2,0.48,2.0,0.34299999999999997,6.0,1.0,0.9979,3.3,0.71,10.5])  # 11 (wine chemical) features\n",
        "\n",
        "\n",
        "# Function to validate the input (note: flawed dataset!!!)\n",
        "'''\n",
        "def validate_input(features):\n",
        "    # Valid ranges for features\n",
        "    if not (4.6 <= features[0] <= 15.9):  # Fixed Acidity\n",
        "        return False\n",
        "    if not (0.12 <= features[1] <= 1.58):  # Volatile Acidity\n",
        "        return False\n",
        "    if not (0 <= features[2] <= 1.66):  # Citric Acid\n",
        "        return False\n",
        "    if not (0.9 <= features[3] <= 15.5):  # Residual Sugar\n",
        "        return False\n",
        "    if not (0.01 <= features[4] <= 0.61):  # Chlorides\n",
        "        return False\n",
        "    if not (0 <= features[5] <= 70):  # Free Sulfur Dioxide\n",
        "        return False\n",
        "    if not (60 <= features[6] <= 150):  # Total Sulfur Dioxide\n",
        "        return False\n",
        "    if not (0.99 <= features[7] <= 1.04):  # Density\n",
        "        return False\n",
        "    if not (2.74 <= features[8] <= 4.01):  # pH\n",
        "        return False\n",
        "    if not (0.33 <= features[9] <= 2):  # Sulphates\n",
        "        return False\n",
        "    if not (8.4 <= features[10] <= 15):  # Alcohol\n",
        "        return False\n",
        "    return True\n",
        "\n",
        "if validate_input(new_input):\n",
        "    # Proceed with prediction\n",
        "else:\n",
        "    print(\"Giá trị thông số bất thường/chưa hợp lý. Vui lòng nhập lại \")\n",
        "'''\n",
        "y_pred = predict(new_input.reshape(1, -1), weights, bias)  # Make prediction\n",
        "print(\"11 thông số của sản phẩm rượu cần đánh giá:\\n\", new_input)\n",
        "if (y_pred[0]==1):\n",
        "  print('\\n Chất lượng rượu tốt\\n\\n')\n",
        "else:\n",
        "  print('\\n Chất lượng rượu không tốt - Loại bỏ sản phẩm này\\n\\n')"
      ],
      "metadata": {
        "colab": {
          "base_uri": "https://localhost:8080/"
        },
        "id": "Yx6kmzE7G2Qi",
        "outputId": "1ce1e1ae-9ad9-46e5-fb7a-9e44dbd140f2"
      },
      "execution_count": null,
      "outputs": [
        {
          "output_type": "stream",
          "name": "stdout",
          "text": [
            "11 thông số của sản phẩm rượu cần đánh giá:\n",
            " [11.    0.2   0.48  2.    0.34  6.    1.    1.    3.3   0.71 10.5 ]\n",
            "\n",
            " Chất lượng rượu tốt\n",
            "\n",
            "\n"
          ]
        }
      ]
    },
    {
      "cell_type": "markdown",
      "source": [
        "# B. Mô phỏng đơn giản chiến lược marketing của hãng (Tạo 50 mẫu input ngẫu nhiên)\n",
        "\n",
        "Lấy vd: sản phẩm hãng Altano Douro Red - bộ dataset rượu đỏ được dựa trên hãng này"
      ],
      "metadata": {
        "id": "txxWdy7BrLa0"
      }
    },
    {
      "cell_type": "markdown",
      "source": [
        "Bước 1: Tạo ngẫu nhiên giá trị cho 11 thông số của 1 mẫu sản phẩm, vận dụng các công cụ từ thư viện numPy\n",
        "\n",
        "  *Yêu cầu giá trị của từng thông số phải hợp lý với thực tế"
      ],
      "metadata": {
        "id": "1Nj6yb7o5SxW"
      }
    },
    {
      "cell_type": "code",
      "source": [
        "import numpy as np\n",
        "\n",
        "# a/ Function to generate a valid row of rounded float features\n",
        "def generate_valid_row():\n",
        "    while True:\n",
        "        features = np.zeros(11)  # Initialize an empty array for 11 features\n",
        "\n",
        "        # Generate random float values within specified ranges\n",
        "        features[0] = round(np.random.uniform(4.6, 15.9), 2)  # Fixed Acidity in [4.6, 15.9]\n",
        "        features[1] = round(np.random.uniform(0.12, 1.58), 2)  # Volatile Acidity in [0.12, 1.58]\n",
        "        features[2] = round(np.random.uniform(0, 1.66), 2)  # Citric Acid in [0, 1.66]\n",
        "        features[3] = round(np.random.uniform(0.9, 15.5), 2)  # Residual Sugar in [0.9, 15.5]\n",
        "        features[4] = round(np.random.uniform(0.01, 0.61), 2)  # Chlorides in [0.01, 0.61]\n",
        "        features[5] = round(np.random.uniform(1, 70), 2)  # Free Sulfur Dioxide in [1, 70]\n",
        "        features[6] = round(np.random.uniform(60, 150), 2)  # Total Sulfur Dioxide in [60, 290]\n",
        "        features[7] = round(np.random.uniform(0.99, 1.04), 2)  # Density in [0.99, 1.04]\n",
        "        features[8] = round(np.random.uniform(2.74, 4.01), 2)  # pH in [2.74, 4.01]\n",
        "        features[9] = round(np.random.uniform(0.33, 2), 2)  # Sulphates in [0.33, 2]\n",
        "        features[10] = round(np.random.uniform(8.4, 15), 2)  # Alcohol in [8.4, 15]\n",
        "\n",
        "        # Check if all features are within the valid range\n",
        "        if (4 <= features[0] <= 15 and\n",
        "            0.1 <= features[1] <= 1.5 and\n",
        "            0 <= features[2] <= 1 and\n",
        "            0 <= features[3] <= 100 and\n",
        "            0.01 <= features[4] <= 0.1 and\n",
        "            0 <= features[5] <= 40 and\n",
        "            50 <= features[6] <= 150 and\n",
        "            0.990 <= features[7] <= 1.100 and\n",
        "            3.0 <= features[8] <= 4.0 and\n",
        "            0.2 <= features[9] <= 1.5 and\n",
        "            8 <= features[10] <= 15):\n",
        "            return features  # Return valid row\n",
        "\n",
        "# b/ Generate an array of valid rows\n",
        "def generate_valid_data(num_rows):\n",
        "    data = []\n",
        "    for _ in range(num_rows):\n",
        "        data.append(generate_valid_row())\n",
        "    return np.array(data)\n",
        "\n",
        "# (Optional) Verify the function by generating valid data for 10 random wine samples and print\n",
        "valid_data = generate_valid_data(10)\n",
        "\n",
        "# (Optional) Set numpy print options to avoid scientific notation, for eg. [1.3580e+01] [1.8000e-01]\n",
        "np.set_printoptions(precision=2, suppress=True)\n",
        "\n",
        "# (Optional) Print the 10 generated valid data\n",
        "print(valid_data)"
      ],
      "metadata": {
        "colab": {
          "base_uri": "https://localhost:8080/"
        },
        "id": "mS2AcqbE2Er6",
        "outputId": "bc7a30c2-1a23-4446-9337-7ae5cd57bbf4"
      },
      "execution_count": null,
      "outputs": [
        {
          "output_type": "stream",
          "name": "stdout",
          "text": [
            "[[ 14.63   0.87   0.37  10.58   0.1   30.53 110.03   0.99   3.41   1.35\n",
            "    8.49]\n",
            " [ 10.28   1.02   0.33   7.94   0.08   9.26 120.13   1.01   3.71   1.26\n",
            "    9.46]\n",
            " [  6.51   0.42   0.96   1.65   0.04  27.51 115.14   1.03   3.5    0.98\n",
            "   12.28]\n",
            " [ 13.13   0.88   0.78   5.76   0.02   9.49 138.5    1.03   3.51   0.57\n",
            "   10.97]\n",
            " [ 12.15   1.1    0.89   2.71   0.06  13.13 146.31   1.02   3.37   1.45\n",
            "   10.45]\n",
            " [  5.23   0.23   0.33   4.95   0.03  27.65 105.12   1.04   3.17   0.44\n",
            "   10.83]\n",
            " [  5.12   0.48   0.33  13.38   0.1   17.05  66.95   1.02   3.5    1.\n",
            "    9.14]\n",
            " [ 14.51   1.37   0.52  10.21   0.09  39.74 126.68   1.03   3.11   0.42\n",
            "   12.36]\n",
            " [ 13.45   0.85   0.92   7.1    0.02  12.1   71.74   1.     3.51   1.15\n",
            "   12.19]\n",
            " [ 11.     0.81   0.09  11.8    0.04  20.1  136.74   1.04   3.74   1.26\n",
            "   13.56]]\n"
          ]
        }
      ]
    },
    {
      "cell_type": "markdown",
      "source": [
        "Bước 2: Dự đoán chất lượng cho N mẫu nhất định được tạo ngẫu nhiên trước đó\n",
        "\n",
        "(vẫn phải thỏa mãn các mức giá trị cho phép của rượu đỏ)\n",
        "\n",
        "    promotion_threshold = 50\n",
        "\n",
        "    wine_inputs = generate_valid_data(50)"
      ],
      "metadata": {
        "id": "Prb3v-zx2nA4"
      }
    },
    {
      "cell_type": "code",
      "source": [
        "# Mô phỏng chiến lượng Marketing cho hãng rượu\n",
        "good_count = 0  # Counter for good quality predictions\n",
        "predictions_count = 0  # Total number of predictions\n",
        "promotion_threshold = 50  # After 50 predictions, start the marketing strategy\n",
        "\n",
        "# Tạo ngẫu nhiên 50 mẫu input cần mô hình dự đoán\n",
        "wine_inputs = generate_valid_data(50)\n",
        "\n",
        "# Dự đoán và đưa ra chiến lược Marketing của hãng: thực hiện vòng lặp đến khi đủ 50 kết quả dự đoán\n",
        "for i in range(len(wine_inputs)):\n",
        "    # Reshape input for the model's expected input format (1, 11)\n",
        "    i_th_input = wine_inputs[i].reshape(1, -1)\n",
        "\n",
        "    # Make prediction for the single input\n",
        "    prediction = predict(i_th_input, weights, bias)  # 0 or 1 prediction\n",
        "\n",
        "    predictions_count += 1\n",
        "\n",
        "    if prediction == 1:\n",
        "        good_count += 1 #count the good quality wine which has classified value of \"1\"\n",
        "\n",
        "    # Marketing strategy after every `promotion_threshold` predictions\n",
        "    if predictions_count % promotion_threshold == 0:\n",
        "        if good_count / promotion_threshold >= 0.7:  # If 70% or more predictions are good\n",
        "            print(f\"Marketing strategy: Premium campaign! Increase price by 20%. Total good predictions: {good_count}\")\n",
        "        else:\n",
        "            print(f\"Marketing strategy: Discount campaign! Offer 20% off for bad wines. Total good predictions: {good_count}\")\n",
        "\n",
        "        # Reset for next strategy\n",
        "        good_count = 0"
      ],
      "metadata": {
        "colab": {
          "base_uri": "https://localhost:8080/"
        },
        "id": "Mehm8h9ghHuh",
        "outputId": "810eeff7-a400-49f9-8c37-dee8a0b80790"
      },
      "execution_count": null,
      "outputs": [
        {
          "output_type": "stream",
          "name": "stdout",
          "text": [
            "Marketing strategy: Premium campaign! Increase price by 20%. Total good predictions: 50\n"
          ]
        }
      ]
    }
  ]
}