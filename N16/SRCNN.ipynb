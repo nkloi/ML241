{
  "nbformat": 4,
  "nbformat_minor": 0,
  "metadata": {
    "colab": {
      "provenance": []
    },
    "kernelspec": {
      "name": "python3",
      "display_name": "Python 3"
    },
    "language_info": {
      "name": "python"
    }
  },
  "cells": [
    {
      "cell_type": "code",
      "execution_count": null,
      "metadata": {
        "colab": {
          "base_uri": "https://localhost:8080/"
        },
        "id": "idxXNmEW83h1",
        "outputId": "3843de10-c43c-4ae8-8342-a8d123057a02"
      },
      "outputs": [
        {
          "output_type": "stream",
          "name": "stdout",
          "text": [
            "Requirement already satisfied: numpy in /usr/local/lib/python3.10/dist-packages (1.26.4)\n",
            "Requirement already satisfied: opencv-python in /usr/local/lib/python3.10/dist-packages (4.10.0.84)\n",
            "Requirement already satisfied: keras in /usr/local/lib/python3.10/dist-packages (3.5.0)\n",
            "Requirement already satisfied: scikit-image in /usr/local/lib/python3.10/dist-packages (0.24.0)\n",
            "Requirement already satisfied: matplotlib in /usr/local/lib/python3.10/dist-packages (3.8.0)\n",
            "Requirement already satisfied: absl-py in /usr/local/lib/python3.10/dist-packages (from keras) (1.4.0)\n",
            "Requirement already satisfied: rich in /usr/local/lib/python3.10/dist-packages (from keras) (13.9.4)\n",
            "Requirement already satisfied: namex in /usr/local/lib/python3.10/dist-packages (from keras) (0.0.8)\n",
            "Requirement already satisfied: h5py in /usr/local/lib/python3.10/dist-packages (from keras) (3.12.1)\n",
            "Requirement already satisfied: optree in /usr/local/lib/python3.10/dist-packages (from keras) (0.13.1)\n",
            "Requirement already satisfied: ml-dtypes in /usr/local/lib/python3.10/dist-packages (from keras) (0.4.1)\n",
            "Requirement already satisfied: packaging in /usr/local/lib/python3.10/dist-packages (from keras) (24.2)\n",
            "Requirement already satisfied: scipy>=1.9 in /usr/local/lib/python3.10/dist-packages (from scikit-image) (1.13.1)\n",
            "Requirement already satisfied: networkx>=2.8 in /usr/local/lib/python3.10/dist-packages (from scikit-image) (3.4.2)\n",
            "Requirement already satisfied: pillow>=9.1 in /usr/local/lib/python3.10/dist-packages (from scikit-image) (11.0.0)\n",
            "Requirement already satisfied: imageio>=2.33 in /usr/local/lib/python3.10/dist-packages (from scikit-image) (2.36.1)\n",
            "Requirement already satisfied: tifffile>=2022.8.12 in /usr/local/lib/python3.10/dist-packages (from scikit-image) (2024.9.20)\n",
            "Requirement already satisfied: lazy-loader>=0.4 in /usr/local/lib/python3.10/dist-packages (from scikit-image) (0.4)\n",
            "Requirement already satisfied: contourpy>=1.0.1 in /usr/local/lib/python3.10/dist-packages (from matplotlib) (1.3.1)\n",
            "Requirement already satisfied: cycler>=0.10 in /usr/local/lib/python3.10/dist-packages (from matplotlib) (0.12.1)\n",
            "Requirement already satisfied: fonttools>=4.22.0 in /usr/local/lib/python3.10/dist-packages (from matplotlib) (4.55.1)\n",
            "Requirement already satisfied: kiwisolver>=1.0.1 in /usr/local/lib/python3.10/dist-packages (from matplotlib) (1.4.7)\n",
            "Requirement already satisfied: pyparsing>=2.3.1 in /usr/local/lib/python3.10/dist-packages (from matplotlib) (3.2.0)\n",
            "Requirement already satisfied: python-dateutil>=2.7 in /usr/local/lib/python3.10/dist-packages (from matplotlib) (2.8.2)\n",
            "Requirement already satisfied: six>=1.5 in /usr/local/lib/python3.10/dist-packages (from python-dateutil>=2.7->matplotlib) (1.16.0)\n",
            "Requirement already satisfied: typing-extensions>=4.5.0 in /usr/local/lib/python3.10/dist-packages (from optree->keras) (4.12.2)\n",
            "Requirement already satisfied: markdown-it-py>=2.2.0 in /usr/local/lib/python3.10/dist-packages (from rich->keras) (3.0.0)\n",
            "Requirement already satisfied: pygments<3.0.0,>=2.13.0 in /usr/local/lib/python3.10/dist-packages (from rich->keras) (2.18.0)\n",
            "Requirement already satisfied: mdurl~=0.1 in /usr/local/lib/python3.10/dist-packages (from markdown-it-py>=2.2.0->rich->keras) (0.1.2)\n",
            "Requirement already satisfied: scikit-image in /usr/local/lib/python3.10/dist-packages (0.24.0)\n",
            "Requirement already satisfied: opencv-python in /usr/local/lib/python3.10/dist-packages (4.10.0.84)\n",
            "Requirement already satisfied: numpy>=1.23 in /usr/local/lib/python3.10/dist-packages (from scikit-image) (1.26.4)\n",
            "Requirement already satisfied: scipy>=1.9 in /usr/local/lib/python3.10/dist-packages (from scikit-image) (1.13.1)\n",
            "Requirement already satisfied: networkx>=2.8 in /usr/local/lib/python3.10/dist-packages (from scikit-image) (3.4.2)\n",
            "Requirement already satisfied: pillow>=9.1 in /usr/local/lib/python3.10/dist-packages (from scikit-image) (11.0.0)\n",
            "Requirement already satisfied: imageio>=2.33 in /usr/local/lib/python3.10/dist-packages (from scikit-image) (2.36.1)\n",
            "Requirement already satisfied: tifffile>=2022.8.12 in /usr/local/lib/python3.10/dist-packages (from scikit-image) (2024.9.20)\n",
            "Requirement already satisfied: packaging>=21 in /usr/local/lib/python3.10/dist-packages (from scikit-image) (24.2)\n",
            "Requirement already satisfied: lazy-loader>=0.4 in /usr/local/lib/python3.10/dist-packages (from scikit-image) (0.4)\n"
          ]
        }
      ],
      "source": [
        "!pip install numpy opencv-python keras scikit-image matplotlib\n",
        "!pip install scikit-image opencv-python"
      ]
    },
    {
      "cell_type": "markdown",
      "source": [
        "**1. IMPORT PACKAGES**\n",
        "\n",
        "*# check packages versions*"
      ],
      "metadata": {
        "id": "-mxgHXGPEl5C"
      }
    },
    {
      "cell_type": "code",
      "source": [
        "# Check package versions\n",
        "import sys\n",
        "import keras\n",
        "import cv2\n",
        "import numpy\n",
        "import matplotlib\n",
        "import skimage\n",
        "\n",
        "print('Python:', sys.version)\n",
        "print('Keras:', keras.__version__)\n",
        "print('OpenCV:', cv2.__version__)\n",
        "print('NumPy:', numpy.__version__)\n",
        "print('Matplotlib:', matplotlib.__version__)\n",
        "print('Scikit-Image:', skimage.__version__)"
      ],
      "metadata": {
        "colab": {
          "base_uri": "https://localhost:8080/"
        },
        "id": "GD4Vl0_Z9BPi",
        "outputId": "2c04f584-1cb2-4157-95a0-1360f6427154"
      },
      "execution_count": null,
      "outputs": [
        {
          "output_type": "stream",
          "name": "stdout",
          "text": [
            "Python: 3.10.12 (main, Nov  6 2024, 20:22:13) [GCC 11.4.0]\n",
            "Keras: 3.5.0\n",
            "OpenCV: 4.10.0\n",
            "NumPy: 1.26.4\n",
            "Matplotlib: 3.8.0\n",
            "Scikit-Image: 0.24.0\n"
          ]
        }
      ]
    },
    {
      "cell_type": "markdown",
      "source": [
        "*Import the necessary packages*"
      ],
      "metadata": {
        "id": "15wh9y6ME2Sf"
      }
    },
    {
      "cell_type": "code",
      "source": [
        "import sys\n",
        "import keras\n",
        "import cv2\n",
        "import numpy as np\n",
        "import math\n",
        "import os\n",
        "from google.colab import drive\n",
        "from keras.models import Sequential\n",
        "from keras.layers import Conv2D\n",
        "from keras.optimizers import Adam\n",
        "# import compare_ssim from skimage.metrics instead of skimage.measure\n",
        "from skimage.metrics import structural_similarity as ssim\n",
        "import matplotlib.pyplot as plt"
      ],
      "metadata": {
        "id": "QknvBjes9SWU"
      },
      "execution_count": null,
      "outputs": []
    },
    {
      "cell_type": "markdown",
      "source": [
        "**2. IMAGE QUALITY METRICS**"
      ],
      "metadata": {
        "id": "AQyTiESVD0Tc"
      }
    },
    {
      "cell_type": "markdown",
      "source": [
        "**2.1. PSNR (PEAK SIGNAL-TO-NOISE RATIO)**"
      ],
      "metadata": {
        "id": "yUFnhW-YD6qa"
      }
    },
    {
      "cell_type": "markdown",
      "source": [
        "*# define a function for peak signal-to-noise ratio (PSNR)*"
      ],
      "metadata": {
        "id": "EiKOXeTdE7ts"
      }
    },
    {
      "cell_type": "code",
      "source": [
        "# Image Quality Metrics\n",
        "def psnr(target, ref):\n",
        "    # assume RGB image\n",
        "    target_data = target.astype(float)\n",
        "    ref_data = ref.astype(float)\n",
        "\n",
        "    diff = ref_data - target_data\n",
        "    diff = diff.flatten('C')\n",
        "\n",
        "    rmse = math.sqrt(np.mean(diff ** 2.))\n",
        "\n",
        "    return 20 * math.log10(255. / rmse)"
      ],
      "metadata": {
        "id": "-aM3DdBM9ZVQ"
      },
      "execution_count": null,
      "outputs": []
    },
    {
      "cell_type": "markdown",
      "source": [
        "**2.2. MSE  (MEAN SQUARED ERROR)**"
      ],
      "metadata": {
        "id": "ty0y8HMiELyu"
      }
    },
    {
      "cell_type": "markdown",
      "source": [
        "*# define function for mean squared error (MSE)*"
      ],
      "metadata": {
        "id": "WyTuATeEFOVt"
      }
    },
    {
      "cell_type": "code",
      "source": [
        "def mse(target, ref):\n",
        "    # the MSE between the two images is the sum of the squared difference between the two images\n",
        "    err = np.sum((target.astype('float') - ref.astype('float')) ** 2)\n",
        "    err /= float(target.shape[0] * target.shape[1])\n",
        "\n",
        "    return err"
      ],
      "metadata": {
        "id": "7WXmeWWWEJPP"
      },
      "execution_count": null,
      "outputs": []
    },
    {
      "cell_type": "markdown",
      "source": [
        "**2.3 SSIM (STRUCTURAL SIMILAR INDEX)**"
      ],
      "metadata": {
        "id": "2Oh5OGMSEbVK"
      }
    },
    {
      "cell_type": "markdown",
      "source": [
        "*# define function that combines all three image quality metrics*"
      ],
      "metadata": {
        "id": "Vhml2eytFdbJ"
      }
    },
    {
      "cell_type": "code",
      "source": [
        "from skimage.metrics import structural_similarity as ssim\n",
        "from skimage.metrics import peak_signal_noise_ratio as psnr\n",
        "from skimage.metrics import mean_squared_error as mse\n",
        "\n",
        "def compare_images(target, ref):\n",
        "    scores = []\n",
        "    scores.append(psnr(target, ref))\n",
        "    scores.append(mse(target, ref))\n",
        "\n",
        "    # Đặt win_size nhỏ hơn hoặc bằng chiều nhỏ nhất của ảnh nếu ảnh quá nhỏ\n",
        "    min_side = min(target.shape[0], target.shape[1])\n",
        "    win_size = 3 if min_side < 7 else 7  # Đặt giá trị nhỏ nhất là 3 nếu ảnh nhỏ hơn 7x7\n",
        "\n",
        "    scores.append(ssim(target, ref, channel_axis=-1, win_size=win_size))\n",
        "\n",
        "    return scores\n",
        "\n",
        "# Khởi tạo các danh sách để lưu trữ chỉ số PSNR của các phương pháp\n",
        "psnr_original = []\n",
        "psnr_srcnn = []\n",
        "psnr_sc = []\n",
        "psnr_bicubic = []\n"
      ],
      "metadata": {
        "id": "i2nUaZGk9qdo"
      },
      "execution_count": null,
      "outputs": []
    },
    {
      "cell_type": "markdown",
      "source": [
        "**3. PREPARING IMAGES**"
      ],
      "metadata": {
        "id": "j0O5RAN8Fg5h"
      }
    },
    {
      "cell_type": "markdown",
      "source": [
        "*# prepare degraded images by introducing quality distortions via resizing*"
      ],
      "metadata": {
        "id": "vVelGqnxFkwd"
      }
    },
    {
      "cell_type": "code",
      "source": [
        "# Preparing Images\n",
        "\n",
        "drive.mount('/content/drive')\n",
        "\n",
        "source = '/content/drive/MyDrive/SRCNN/source/'\n",
        "\n",
        "images = '/content/drive/MyDrive/SRCNN/images/'\n",
        "\n",
        "def prepare_images(path, factor):\n",
        "    for file in os.listdir(path):\n",
        "\n",
        "        # open the file\n",
        "        img = cv2.imread(os.path.join(path, file))\n",
        "\n",
        "        # find old and new image dimensions\n",
        "        h, w, _ = img.shape\n",
        "        new_height = h // factor\n",
        "        new_width = w // factor\n",
        "\n",
        "        # resize the image - down\n",
        "        img = cv2.resize(img, (new_width, new_height), interpolation=cv2.INTER_LINEAR)\n",
        "\n",
        "        # resize the image - up\n",
        "        img = cv2.resize(img, (w, h), interpolation=cv2.INTER_LINEAR)\n",
        "\n",
        "        # save the image\n",
        "        print('Saving {}'.format(file))\n",
        "\n",
        "        #cv2.imwrite('images/{}'.format(file), img)\n",
        "        cv2.imwrite(os.path.join(images, file), img)\n",
        "\n",
        "prepare_images(source, 2)"
      ],
      "metadata": {
        "colab": {
          "base_uri": "https://localhost:8080/"
        },
        "id": "k3r8eZrJ9sFN",
        "outputId": "b84df1d9-ce0e-4bd4-fa57-81b3864f7d3d"
      },
      "execution_count": null,
      "outputs": [
        {
          "output_type": "stream",
          "name": "stdout",
          "text": [
            "Drive already mounted at /content/drive; to attempt to forcibly remount, call drive.mount(\"/content/drive\", force_remount=True).\n",
            "Saving coastguard.bmp\n",
            "Saving flowers.bmp\n",
            "Saving lenna.bmp\n",
            "Saving zebra.bmp\n",
            "Saving foreman.bmp\n",
            "Saving monarch.bmp\n",
            "Saving pepper.bmp\n",
            "Saving man.bmp\n",
            "Saving bridge.bmp\n",
            "Saving face.bmp\n",
            "Saving barbara.bmp\n",
            "Saving ppt3.bmp\n",
            "Saving baboon.bmp\n",
            "Saving comic.bmp\n",
            "Saving butterfly_GT.bmp\n",
            "Saving bird_GT.bmp\n",
            "Saving head_GT.bmp\n",
            "Saving baby_GT.bmp\n",
            "Saving woman_GT.bmp\n"
          ]
        }
      ]
    },
    {
      "cell_type": "markdown",
      "source": [
        "**4. TESTING LOW-RESOLUTION IMAGES**"
      ],
      "metadata": {
        "id": "qUJ-PRaPFqhp"
      }
    },
    {
      "cell_type": "markdown",
      "source": [
        "*# test the generated images using the image quality metrics*"
      ],
      "metadata": {
        "id": "re6ZVnrHFxir"
      }
    },
    {
      "cell_type": "code",
      "source": [
        "# Testing Low-Resolution Images\n",
        "\n",
        "for file in os.listdir(images):\n",
        "\n",
        "    #target = cv2.imread(os.path.join(images, file))\n",
        "    #ref = cv2.imread(os.path.join(source, file))\n",
        "\n",
        "    target_path = os.path.join(images, file)\n",
        "    ref_path = os.path.join(source, file)\n",
        "\n",
        "    target = cv2.imread(target_path)\n",
        "    ref = cv2.imread(ref_path)\n",
        "\n",
        "    scores = compare_images(target, ref)\n",
        "\n",
        "    print('{}\\nPSNR: {}\\nMSE: {}\\nSSIM: {}\\n'.format(file, scores[0], scores[1], scores[2]))"
      ],
      "metadata": {
        "colab": {
          "base_uri": "https://localhost:8080/"
        },
        "id": "4KzOCydb_fzI",
        "outputId": "318addff-f7f9-4553-c03a-6f9556623034"
      },
      "execution_count": null,
      "outputs": [
        {
          "output_type": "stream",
          "name": "stdout",
          "text": [
            "coastguard.bmp\n",
            "PSNR: 27.161600663887082\n",
            "MSE: 125.00295928030303\n",
            "SSIM: 0.756950063354931\n",
            "\n",
            "flowers.bmp\n",
            "PSNR: 27.454504805386147\n",
            "MSE: 116.85031307550645\n",
            "SSIM: 0.8697286286974628\n",
            "\n",
            "lenna.bmp\n",
            "PSNR: 31.47349297867539\n",
            "MSE: 46.316001892089844\n",
            "SSIM: 0.8460989200521499\n",
            "\n",
            "zebra.bmp\n",
            "PSNR: 27.90984063932951\n",
            "MSE: 105.21951531762727\n",
            "SSIM: 0.8911656209329116\n",
            "\n",
            "foreman.bmp\n",
            "PSNR: 30.14456532664372\n",
            "MSE: 62.89611610900673\n",
            "SSIM: 0.933268417388899\n",
            "\n",
            "monarch.bmp\n",
            "PSNR: 30.196242365288896\n",
            "MSE: 62.15214538574219\n",
            "SSIM: 0.9439574293434104\n",
            "\n",
            "pepper.bmp\n",
            "PSNR: 29.88947161686106\n",
            "MSE: 66.70113118489583\n",
            "SSIM: 0.8357937568464359\n",
            "\n",
            "man.bmp\n",
            "PSNR: 27.226463697988216\n",
            "MSE: 123.1498794555664\n",
            "SSIM: 0.8214950645456561\n",
            "\n",
            "bridge.bmp\n",
            "PSNR: 25.850528790115554\n",
            "MSE: 169.05479049682617\n",
            "SSIM: 0.7804245912255268\n",
            "\n",
            "face.bmp\n",
            "PSNR: 30.99220650287191\n",
            "MSE: 51.74396572848841\n",
            "SSIM: 0.8008439492289884\n",
            "\n",
            "barbara.bmp\n",
            "PSNR: 25.906629837568126\n",
            "MSE: 166.8850284529321\n",
            "SSIM: 0.8098632646406401\n",
            "\n",
            "ppt3.bmp\n",
            "PSNR: 24.84926168950471\n",
            "MSE: 212.88947546375275\n",
            "SSIM: 0.9284023942315316\n",
            "\n",
            "baboon.bmp\n",
            "PSNR: 22.15708408344255\n",
            "MSE: 395.70537777777776\n",
            "SSIM: 0.629277587900277\n",
            "\n",
            "comic.bmp\n",
            "PSNR: 23.799861502225532\n",
            "MSE: 271.07796121883655\n",
            "SSIM: 0.8347335416398209\n",
            "\n",
            "butterfly_GT.bmp\n",
            "PSNR: 24.782076560337416\n",
            "MSE: 216.2084706624349\n",
            "SSIM: 0.8791344763843051\n",
            "\n",
            "bird_GT.bmp\n",
            "PSNR: 32.896644728720005\n",
            "MSE: 33.374586066100825\n",
            "SSIM: 0.9533644866026473\n",
            "\n",
            "head_GT.bmp\n",
            "PSNR: 31.020502848237534\n",
            "MSE: 51.407925170068026\n",
            "SSIM: 0.8011121330733371\n",
            "\n",
            "baby_GT.bmp\n",
            "PSNR: 34.37180640966199\n",
            "MSE: 23.762915293375652\n",
            "SSIM: 0.9356987872724932\n",
            "\n",
            "woman_GT.bmp\n",
            "PSNR: 29.326236280817465\n",
            "MSE: 75.937576499388\n",
            "SSIM: 0.9335397280466592\n",
            "\n"
          ]
        }
      ]
    },
    {
      "cell_type": "markdown",
      "source": [
        "**5. BUILDING THE SRCNN MODEL**"
      ],
      "metadata": {
        "id": "m9c1KTbeF1C8"
      }
    },
    {
      "cell_type": "markdown",
      "source": [
        "*# define the SRCNN model*"
      ],
      "metadata": {
        "id": "ko_eDMDiF-wG"
      }
    },
    {
      "cell_type": "code",
      "source": [
        "# Building the SRCNN Model\n",
        "def model():\n",
        "    SRCNN = Sequential()\n",
        "\n",
        "    SRCNN.add(Conv2D(filters=128, kernel_size=(9, 9), kernel_initializer='glorot_uniform',\n",
        "                     activation='relu', padding='valid', use_bias=True, input_shape=(None, None, 1)))\n",
        "    SRCNN.add(Conv2D(filters=64, kernel_size=(3, 3), kernel_initializer='glorot_uniform',\n",
        "                     activation='relu', padding='same', use_bias=True))\n",
        "    SRCNN.add(Conv2D(filters=1, kernel_size=(5, 5), kernel_initializer='glorot_uniform',\n",
        "                     activation='linear', padding='valid', use_bias=True))\n",
        "\n",
        "    # Change 'lr' to 'learning_rate'\n",
        "    adam = Adam(learning_rate=0.0003)\n",
        "\n",
        "    SRCNN.compile(optimizer=adam, loss='mean_squared_error', metrics=['mean_squared_error'])\n",
        "\n",
        "    return SRCNN"
      ],
      "metadata": {
        "id": "r-xdeF3L_iW1"
      },
      "execution_count": null,
      "outputs": []
    },
    {
      "cell_type": "markdown",
      "source": [
        "**6. DEPLOYING THE SRCNN**"
      ],
      "metadata": {
        "id": "_-yFX5LdGAxa"
      }
    },
    {
      "cell_type": "markdown",
      "source": [
        "*# define necessary image processing functions*"
      ],
      "metadata": {
        "id": "Vd6BpKH0GFPy"
      }
    },
    {
      "cell_type": "code",
      "source": [
        "# Deploying the SRCNN\n",
        "def modcrop(img, scale):\n",
        "    tmpsz = img.shape\n",
        "    sz = tmpsz[0:2]\n",
        "    sz = sz - np.mod(sz, scale)\n",
        "    img = img[0:sz[0], 0:sz[1]]\n",
        "    return img\n",
        "\n",
        "def shave(image, border):\n",
        "    img = image[border:-border, border:-border]\n",
        "    return img"
      ],
      "metadata": {
        "id": "qkAWSUabHvLc"
      },
      "execution_count": null,
      "outputs": []
    },
    {
      "cell_type": "code",
      "source": [
        "import os\n",
        "import cv2\n",
        "import numpy as np\n",
        "import matplotlib.pyplot as plt\n",
        "\n",
        "def predict(image_path):\n",
        "    # Load the SRCNN model with weights\n",
        "    srcnn = model()\n",
        "    srcnn.load_weights('/content/drive/MyDrive/SRCNN/91-image_x2.h5')\n",
        "\n",
        "    # Load the degraded image\n",
        "    degraded = cv2.imread(image_path)\n",
        "    if degraded is None:\n",
        "        print(\"Không thể load ảnh:\", image_path)\n",
        "        return None, None, None, None\n",
        "\n",
        "    # Check for reference image in source folder\n",
        "    path, file = os.path.split(image_path)\n",
        "    ref_path = '/content/drive/MyDrive/SRCNN/source/{}'.format(file)\n",
        "\n",
        "    # Kiểm tra lại đường dẫn ảnh gốc\n",
        "    print(\"Đường dẫn ảnh gốc:\", ref_path)\n",
        "\n",
        "    # Kiểm tra nếu ảnh gốc tồn tại\n",
        "    if not os.path.exists(ref_path):\n",
        "        print(\"Không thể tìm thấy ảnh gốc:\", ref_path)\n",
        "        return None, None, None, None\n",
        "\n",
        "    # Load the reference image\n",
        "    ref = cv2.imread(ref_path)\n",
        "    if ref is None:\n",
        "        print(\"Không thể load ảnh gốc:\", ref_path)\n",
        "        return None, None, None, None\n",
        "\n",
        "    # Preprocess the image with modcrop\n",
        "    ref = modcrop(ref, 3)\n",
        "    degraded = modcrop(degraded, 3)\n",
        "\n",
        "    # Convert the image to YCrCb (SRCNN is trained on Y channel)\n",
        "    temp = cv2.cvtColor(degraded, cv2.COLOR_BGR2YCrCb)\n",
        "\n",
        "    # Create image slice and normalize\n",
        "    Y = np.zeros((1, temp.shape[0], temp.shape[1], 1), dtype=float)\n",
        "    Y[0, :, :, 0] = temp[:, :, 0].astype(float) / 255\n",
        "\n",
        "    # Perform super-resolution with SRCNN\n",
        "    pre = srcnn.predict(Y, batch_size=1)\n",
        "\n",
        "    # Post-process output\n",
        "    pre *= 255\n",
        "    pre[pre[:] > 255] = 255\n",
        "    pre[pre[:] < 0] = 0\n",
        "    pre = pre.astype(np.uint8)\n",
        "\n",
        "    # Copy Y channel back to image and convert to BGR\n",
        "    temp = shave(temp, 6)\n",
        "    temp[:, :, 0] = pre[0, :, :, 0]\n",
        "    output = cv2.cvtColor(temp, cv2.COLOR_YCrCb2BGR)\n",
        "\n",
        "    # Remove border from reference and degraded images\n",
        "    ref = shave(ref.astype(np.uint8), 6)\n",
        "    degraded = shave(degraded.astype(np.uint8), 6)\n",
        "\n",
        "    # Image quality calculations (PSNR, MSE, SSIM)\n",
        "    scores = []\n",
        "    scores.append(compare_images(degraded, ref))\n",
        "    scores.append(compare_images(output, ref))\n",
        "\n",
        "    # Return images and scores\n",
        "    return ref, degraded, output, scores"
      ],
      "metadata": {
        "id": "nuM5lmnNtWIg"
      },
      "execution_count": null,
      "outputs": []
    },
    {
      "cell_type": "code",
      "source": [
        "def psnr_value(target, ref):\n",
        "    target_data = target.astype(float)\n",
        "    ref_data = ref.astype(float)\n",
        "    diff = ref_data - target_data\n",
        "    diff = diff.flatten('C')\n",
        "    rmse = math.sqrt(np.mean(diff ** 2.))\n",
        "    return 20 * math.log10(255. / rmse)\n",
        "\n",
        "# Lưu trữ PSNR cho các ảnh\n",
        "psnr_values = {'Original': [], 'Degraded': [], 'SRCNN': []}"
      ],
      "metadata": {
        "id": "ZcuLY1jNkllG"
      },
      "execution_count": null,
      "outputs": []
    },
    {
      "cell_type": "code",
      "source": [
        "# Duyệt qua tất cả các ảnh trong thư mục 'images'\n",
        "image_folder = '/content/drive/MyDrive/SRCNN/images'\n",
        "image_files = [f for f in os.listdir(image_folder) if f.endswith('.bmp')]  # Lọc chỉ ảnh .bmp\n",
        "# Danh sách để lưu PSNR của ảnh giảm chất lượng và SRCNN\n",
        "psnr_degraded_list = []\n",
        "psnr_output_list = []\n",
        "\n",
        "for image_file in image_files:\n",
        "    image_path = os.path.join(image_folder, image_file)\n",
        "    ref, degraded, output, scores = predict(image_path)\n",
        "\n",
        "    if ref is not None and degraded is not None and output is not None:\n",
        "        # Tính PSNR cho ảnh gốc, ảnh giảm chất lượng và ảnh SRCNN\n",
        "        #psnr_ref = psnr_value(ref, ref)  # PSNR của ảnh gốc với chính nó (PSNR = 0, không có sự thay đổi)\n",
        "        psnr_degraded = psnr_value(degraded, ref)  # PSNR giữa ảnh giảm chất lượng và ảnh gốc\n",
        "        psnr_output = psnr_value(output, ref)  # PSNR giữa ảnh phục hồi SRCNN và ảnh gốc\n",
        "\n",
        "        # Lưu PSNR vào danh sách\n",
        "        psnr_degraded_list.append(psnr_degraded)\n",
        "        psnr_output_list.append(psnr_output)\n",
        "\n",
        "    if ref is not None and degraded is not None and output is not None:\n",
        "        # Hiển thị 3 ảnh: Gốc, Giảm chất lượng, SRCNN\n",
        "        fig, axs = plt.subplots(1, 3, figsize=(20, 8))  # 1 hàng, 3 cột\n",
        "        axs[0].imshow(cv2.cvtColor(ref, cv2.COLOR_BGR2RGB))\n",
        "        axs[0].set_title(f'Original: {image_file}')\n",
        "        axs[1].imshow(cv2.cvtColor(degraded, cv2.COLOR_BGR2RGB))\n",
        "        axs[1].set_title(f'Degraded: {image_file}')\n",
        "        axs[2].imshow(cv2.cvtColor(output, cv2.COLOR_BGR2RGB))\n",
        "        axs[2].set_title(f'SRCNN Output: {image_file}')\n",
        "\n",
        "        # Loại bỏ các nhãn x và y\n",
        "        for ax in axs:\n",
        "            ax.set_xticks([])\n",
        "            ax.set_yticks([])\n",
        "\n",
        "        plt.tight_layout()\n",
        "        plt.show()\n",
        "    else:\n",
        "        print(f\"Lỗi khi tải ảnh hoặc thực hiện dự đoán cho {image_file}.\")"
      ],
      "metadata": {
        "colab": {
          "base_uri": "https://localhost:8080/",
          "height": 375
        },
        "id": "hX5JHkSCkAf_",
        "outputId": "227f979b-1323-46e7-8cdc-ed9ff8942a46"
      },
      "execution_count": null,
      "outputs": [
        {
          "output_type": "error",
          "ename": "ValueError",
          "evalue": "Layer count mismatch when loading weights from file. Model expected 3 layers, found 0 saved layers.",
          "traceback": [
            "\u001b[0;31m---------------------------------------------------------------------------\u001b[0m",
            "\u001b[0;31mValueError\u001b[0m                                Traceback (most recent call last)",
            "\u001b[0;32m<ipython-input-24-286f1e11a926>\u001b[0m in \u001b[0;36m<cell line: 8>\u001b[0;34m()\u001b[0m\n\u001b[1;32m      8\u001b[0m \u001b[0;32mfor\u001b[0m \u001b[0mimage_file\u001b[0m \u001b[0;32min\u001b[0m \u001b[0mimage_files\u001b[0m\u001b[0;34m:\u001b[0m\u001b[0;34m\u001b[0m\u001b[0;34m\u001b[0m\u001b[0m\n\u001b[1;32m      9\u001b[0m     \u001b[0mimage_path\u001b[0m \u001b[0;34m=\u001b[0m \u001b[0mos\u001b[0m\u001b[0;34m.\u001b[0m\u001b[0mpath\u001b[0m\u001b[0;34m.\u001b[0m\u001b[0mjoin\u001b[0m\u001b[0;34m(\u001b[0m\u001b[0mimage_folder\u001b[0m\u001b[0;34m,\u001b[0m \u001b[0mimage_file\u001b[0m\u001b[0;34m)\u001b[0m\u001b[0;34m\u001b[0m\u001b[0;34m\u001b[0m\u001b[0m\n\u001b[0;32m---> 10\u001b[0;31m     \u001b[0mref\u001b[0m\u001b[0;34m,\u001b[0m \u001b[0mdegraded\u001b[0m\u001b[0;34m,\u001b[0m \u001b[0moutput\u001b[0m\u001b[0;34m,\u001b[0m \u001b[0mscores\u001b[0m \u001b[0;34m=\u001b[0m \u001b[0mpredict\u001b[0m\u001b[0;34m(\u001b[0m\u001b[0mimage_path\u001b[0m\u001b[0;34m)\u001b[0m\u001b[0;34m\u001b[0m\u001b[0;34m\u001b[0m\u001b[0m\n\u001b[0m\u001b[1;32m     11\u001b[0m \u001b[0;34m\u001b[0m\u001b[0m\n\u001b[1;32m     12\u001b[0m     \u001b[0;32mif\u001b[0m \u001b[0mref\u001b[0m \u001b[0;32mis\u001b[0m \u001b[0;32mnot\u001b[0m \u001b[0;32mNone\u001b[0m \u001b[0;32mand\u001b[0m \u001b[0mdegraded\u001b[0m \u001b[0;32mis\u001b[0m \u001b[0;32mnot\u001b[0m \u001b[0;32mNone\u001b[0m \u001b[0;32mand\u001b[0m \u001b[0moutput\u001b[0m \u001b[0;32mis\u001b[0m \u001b[0;32mnot\u001b[0m \u001b[0;32mNone\u001b[0m\u001b[0;34m:\u001b[0m\u001b[0;34m\u001b[0m\u001b[0;34m\u001b[0m\u001b[0m\n",
            "\u001b[0;32m<ipython-input-22-e5e7789ac2e3>\u001b[0m in \u001b[0;36mpredict\u001b[0;34m(image_path)\u001b[0m\n\u001b[1;32m      7\u001b[0m     \u001b[0;31m# Load the SRCNN model with weights\u001b[0m\u001b[0;34m\u001b[0m\u001b[0;34m\u001b[0m\u001b[0m\n\u001b[1;32m      8\u001b[0m     \u001b[0msrcnn\u001b[0m \u001b[0;34m=\u001b[0m \u001b[0mmodel\u001b[0m\u001b[0;34m(\u001b[0m\u001b[0;34m)\u001b[0m\u001b[0;34m\u001b[0m\u001b[0;34m\u001b[0m\u001b[0m\n\u001b[0;32m----> 9\u001b[0;31m     \u001b[0msrcnn\u001b[0m\u001b[0;34m.\u001b[0m\u001b[0mload_weights\u001b[0m\u001b[0;34m(\u001b[0m\u001b[0;34m'/content/drive/MyDrive/SRCNN/91-image_x2.h5'\u001b[0m\u001b[0;34m)\u001b[0m\u001b[0;34m\u001b[0m\u001b[0;34m\u001b[0m\u001b[0m\n\u001b[0m\u001b[1;32m     10\u001b[0m \u001b[0;34m\u001b[0m\u001b[0m\n\u001b[1;32m     11\u001b[0m     \u001b[0;31m# Load the degraded image\u001b[0m\u001b[0;34m\u001b[0m\u001b[0;34m\u001b[0m\u001b[0m\n",
            "\u001b[0;32m/usr/local/lib/python3.10/dist-packages/keras/src/utils/traceback_utils.py\u001b[0m in \u001b[0;36merror_handler\u001b[0;34m(*args, **kwargs)\u001b[0m\n\u001b[1;32m    120\u001b[0m             \u001b[0;31m# To get the full stack trace, call:\u001b[0m\u001b[0;34m\u001b[0m\u001b[0;34m\u001b[0m\u001b[0m\n\u001b[1;32m    121\u001b[0m             \u001b[0;31m# `keras.config.disable_traceback_filtering()`\u001b[0m\u001b[0;34m\u001b[0m\u001b[0;34m\u001b[0m\u001b[0m\n\u001b[0;32m--> 122\u001b[0;31m             \u001b[0;32mraise\u001b[0m \u001b[0me\u001b[0m\u001b[0;34m.\u001b[0m\u001b[0mwith_traceback\u001b[0m\u001b[0;34m(\u001b[0m\u001b[0mfiltered_tb\u001b[0m\u001b[0;34m)\u001b[0m \u001b[0;32mfrom\u001b[0m \u001b[0;32mNone\u001b[0m\u001b[0;34m\u001b[0m\u001b[0;34m\u001b[0m\u001b[0m\n\u001b[0m\u001b[1;32m    123\u001b[0m         \u001b[0;32mfinally\u001b[0m\u001b[0;34m:\u001b[0m\u001b[0;34m\u001b[0m\u001b[0;34m\u001b[0m\u001b[0m\n\u001b[1;32m    124\u001b[0m             \u001b[0;32mdel\u001b[0m \u001b[0mfiltered_tb\u001b[0m\u001b[0;34m\u001b[0m\u001b[0;34m\u001b[0m\u001b[0m\n",
            "\u001b[0;32m/usr/local/lib/python3.10/dist-packages/keras/src/legacy/saving/legacy_h5_format.py\u001b[0m in \u001b[0;36mload_weights_from_hdf5_group\u001b[0;34m(f, model)\u001b[0m\n\u001b[1;32m    355\u001b[0m     \u001b[0mlayer_names\u001b[0m \u001b[0;34m=\u001b[0m \u001b[0mfiltered_layer_names\u001b[0m\u001b[0;34m\u001b[0m\u001b[0;34m\u001b[0m\u001b[0m\n\u001b[1;32m    356\u001b[0m     \u001b[0;32mif\u001b[0m \u001b[0mlen\u001b[0m\u001b[0;34m(\u001b[0m\u001b[0mlayer_names\u001b[0m\u001b[0;34m)\u001b[0m \u001b[0;34m!=\u001b[0m \u001b[0mlen\u001b[0m\u001b[0;34m(\u001b[0m\u001b[0mfiltered_layers\u001b[0m\u001b[0;34m)\u001b[0m\u001b[0;34m:\u001b[0m\u001b[0;34m\u001b[0m\u001b[0;34m\u001b[0m\u001b[0m\n\u001b[0;32m--> 357\u001b[0;31m         raise ValueError(\n\u001b[0m\u001b[1;32m    358\u001b[0m             \u001b[0;34m\"Layer count mismatch when loading weights from file. \"\u001b[0m\u001b[0;34m\u001b[0m\u001b[0;34m\u001b[0m\u001b[0m\n\u001b[1;32m    359\u001b[0m             \u001b[0;34mf\"Model expected {len(filtered_layers)} layers, found \"\u001b[0m\u001b[0;34m\u001b[0m\u001b[0;34m\u001b[0m\u001b[0m\n",
            "\u001b[0;31mValueError\u001b[0m: Layer count mismatch when loading weights from file. Model expected 3 layers, found 0 saved layers."
          ]
        }
      ]
    },
    {
      "cell_type": "code",
      "source": [
        "\n",
        "# Duyệt qua tất cả các ảnh trong thư mục 'images'\n",
        "image_folder = '/content/drive/MyDrive/images'\n",
        "image_files = [f for f in os.listdir(image_folder) if f.endswith('.bmp')]  # Lọc chỉ ảnh .bmp\n",
        "\n",
        "# Danh sách để lưu PSNR của các phương pháp nội suy\n",
        "psnr_cubic_list = []\n",
        "psnr_degraded_list = []\n",
        "psnr_output_list = []\n",
        "\n",
        "for image_file in image_files:\n",
        "    image_path = os.path.join(image_folder, image_file)\n",
        "\n",
        "\n",
        "    if ref is not None and degraded is not None and output is not None:\n",
        "        # Tính PSNR cho ảnh giảm chất lượng và ảnh phục hồi SRCNN\n",
        "        psnr_degraded = psnr_value(degraded, ref)\n",
        "        psnr_output = psnr_value(output, ref)\n",
        "\n",
        "        # Lưu PSNR vào danh sách\n",
        "        psnr_degraded_list.append(psnr_degraded)\n",
        "        psnr_output_list.append(psnr_output)\n",
        "\n",
        "        # Thực hiện nội suy với các phương pháp khác nhau\n",
        "        degraded_resized_cubic = cv2.resize(degraded, (ref.shape[1], ref.shape[0]), interpolation=cv2.INTER_CUBIC)\n",
        "\n",
        "        # Tính PSNR cho mỗi phương pháp nội suy\n",
        "        psnr_cubic = psnr_value(degraded_resized_cubic, ref)\n",
        "\n",
        "        # Lưu PSNR vào danh sách\n",
        "        psnr_cubic_list.append(psnr_cubic)\n",
        "\n",
        "    else:\n",
        "        print(f\"Lỗi khi tải ảnh hoặc thực hiện dự đoán cho {image_file}.\")\n",
        "\n",
        "# Sau khi duyệt qua tất cả các ảnh, tính toán PSNR trung bình cho mỗi phương pháp\n",
        "avg_psnr_cubic = np.mean(psnr_cubic_list)\n",
        "avg_psnr_degraded = np.mean(psnr_degraded_list)\n",
        "avg_psnr_output = np.mean(psnr_output_list)\n",
        "\n",
        "# Vẽ biểu đồ so sánh PSNR của các phương pháp nội suy và SRCNN\n",
        "plt.figure(figsize=(10, 8))\n",
        "labels = ['Bicubic', 'Degraded', 'SRCNN Output']\n",
        "psnr_values = [avg_psnr_cubic, avg_psnr_degraded, avg_psnr_output]\n",
        "\n",
        "bars = plt.bar(labels, psnr_values, color=['green', 'red', 'purple'],width=0.4)\n",
        "plt.title('Average PSNR Comparison')\n",
        "plt.ylabel('PSNR Value')\n",
        "\n",
        "# Hiển thị giá trị PSNR trên mỗi cột trong biểu đồ\n",
        "for bar, value in zip(bars, psnr_values):\n",
        "    yval = bar.get_height()\n",
        "    plt.text(bar.get_x() + bar.get_width()/2, yval + 0.5, f'{value:.2f}', ha='center', va='bottom')\n",
        "\n",
        "plt.show()\n"
      ],
      "metadata": {
        "colab": {
          "base_uri": "https://localhost:8080/",
          "height": 699
        },
        "id": "dRy0cFtTndmj",
        "outputId": "c22be76b-7395-4cfe-81ba-1277ebae80d4"
      },
      "execution_count": null,
      "outputs": [
        {
          "output_type": "display_data",
          "data": {
            "text/plain": [
              "<Figure size 1000x800 with 1 Axes>"
            ],
            "image/png": "[encoded data removed]"
          },
          "metadata": {}
        }
      ]
    }
  ]
}